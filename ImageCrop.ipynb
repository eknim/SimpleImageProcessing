{
 "cells": [
  {
   "cell_type": "code",
   "execution_count": 1,
   "metadata": {},
   "outputs": [],
   "source": [
    "from PIL import Image"
   ]
  },
  {
   "cell_type": "code",
   "execution_count": 6,
   "metadata": {},
   "outputs": [],
   "source": [
    "im = Image.open('../../../datasets/synth/Thermal_camera_Test/Thermal_camera/20190321142001.128.jpg')\n",
    "cropImage = im.crop((100, 100, 150, 150))\n",
    "cropImage.save('python-crop.jpg')"
   ]
  },
  {
   "cell_type": "code",
   "execution_count": 3,
   "metadata": {},
   "outputs": [],
   "source": [
    "import os, shutil"
   ]
  },
  {
   "cell_type": "code",
   "execution_count": null,
   "metadata": {},
   "outputs": [],
   "source": [
    "# 원본 데이터셋을 압축 해제한 디렉터리 경로\n",
    "original_dataset_dir = '../../../datasets/synth/Thermal_camera_Test/Thermal_camera/'\n",
    "\n",
    "# 소규모 데이터셋을 저장할 디렉터리\n",
    "crop_dir = '../../datasets/synth/Thermal_camera_Test/Thermal_camera_crop/'\n",
    "\n",
    "crop_dir = os.path.join(original_dataset_dir, 'train')\n",
    "os.mkdir(crop_dir)\n",
    "\n",
    "fnames = ['{}.jpg'.format(i) for i in range(100)]\n",
    "for fname in fnames:\n",
    "    print(fname)\n",
    "#     src = os.path.join(original_dataset_dir, fname)\n",
    "#     dst = os.path.join(train_cats_dir, fname)\n",
    "#     shutil.copyfile(src, dst)\n"
   ]
  },
  {
   "cell_type": "code",
   "execution_count": null,
   "metadata": {},
   "outputs": [],
   "source": [
    "for id in image_path:\n",
    "    prefix = path.join(image_log,id)\n",
    "    img = mpimg.imread(prefix)\n",
    "\n",
    "    # Cropping\n",
    "    crop_img = img[40:140,:,:]\n",
    "    #lx, ly = crop_img.shape[0], crop_img.shape[1]\n",
    "    #print('Cropped image shape: %d by %d' % (lx,ly))"
   ]
  },
  {
   "cell_type": "code",
   "execution_count": null,
   "metadata": {},
   "outputs": [],
   "source": []
  }
 ],
 "metadata": {
  "kernelspec": {
   "display_name": "Python 3",
   "language": "python",
   "name": "python3"
  },
  "language_info": {
   "codemirror_mode": {
    "name": "ipython",
    "version": 3
   },
   "file_extension": ".py",
   "mimetype": "text/x-python",
   "name": "python",
   "nbconvert_exporter": "python",
   "pygments_lexer": "ipython3",
   "version": "3.6.8"
  }
 },
 "nbformat": 4,
 "nbformat_minor": 2
}
